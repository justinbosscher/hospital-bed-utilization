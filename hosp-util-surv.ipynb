{
 "cells": [
  {
   "cell_type": "markdown",
   "source": [
    "# Hospital Bed Utilization"
   ],
   "metadata": {}
  },
  {
   "cell_type": "code",
   "execution_count": 1,
   "source": [
    "#import requests\n",
    "#from pytrends.request import TrendReq\n",
    "import pandas as pd\n",
    "import numpy as np\n",
    "#from datetime import datelast_iot_date_plus_week\n",
    "#from datetime import timedelta\n",
    "from create_data import create_data\n",
    "from update_data import update_data"
   ],
   "outputs": [],
   "metadata": {}
  },
  {
   "cell_type": "markdown",
   "source": [
    "## Data\n",
    "\n",
    "### Google Trends Data\n",
    "[Pytrends API Documentation](https://pypi.org/project/pytrends/)\n",
    "\n",
    "### Hospital and COVID Data\n",
    "\n",
    "### HealthData.gov COVID-19 Reported Patient Impact and Hospital Capacity by Facility\n",
    "[Hospital Capacity Data](https://healthdata.gov/Hospital/COVID-19-Reported-Patient-Impact-and-Hospital-Capa/anag-cw7u)\n",
    "\n",
    "### CDC COVID-19 Case Surveillance Public Use Data with Geography\n",
    "[COVID Case Surveillance Data](https://data.cdc.gov/Case-Surveillance/COVID-19-Case-Surveillance-Public-Use-Data-with-Ge/n8mc-b4w4)\n",
    "\n",
    "[HealthData.gov API docs](https://dev.socrata.com/foundry/healthdata.gov/6xf2-c3ie)"
   ],
   "metadata": {}
  },
  {
   "cell_type": "markdown",
   "source": [
    "## Create Data Sets\n",
    "### If data sets have already been created, update them, or move on to exploration."
   ],
   "metadata": {}
  },
  {
   "cell_type": "code",
   "execution_count": 3,
   "source": [
    "#TODO: Delete following 2 lines when finished\n",
    "#%autoreload\n",
    "#import create_data\n",
    "\n",
    "# Create data\n",
    "dfs_list = create_data()\n",
    "# Save df's separately\n",
    "reg_int_df = dfs_list[0]\n",
    "iot_df = dfs_list[1]\n",
    "hospitals_df = dfs_list[2]\n",
    "covid_df = dfs_list[3]"
   ],
   "outputs": [
    {
     "output_type": "stream",
     "name": "stderr",
     "text": [
      "UsageError: Line magic function `%autoreload` not found.\n"
     ]
    }
   ],
   "metadata": {}
  },
  {
   "cell_type": "code",
   "execution_count": 7,
   "source": [
    "# TODO: Create alert that an update should be performed"
   ],
   "outputs": [],
   "metadata": {}
  },
  {
   "cell_type": "markdown",
   "source": [
    "## Update Data\n",
    "### If the data have been created already, they can be updated below."
   ],
   "metadata": {}
  },
  {
   "cell_type": "code",
   "execution_count": 7,
   "source": [
    "#TODO: Delete following lines when finished\n",
    "%reload_ext autoreload\n",
    "%autoreload\n",
    "from update_data import update_data\n",
    "\n",
    "# Create data\n",
    "updated_dfs_list = update_data()"
   ],
   "outputs": [
    {
     "output_type": "stream",
     "name": "stdout",
     "text": [
      "Data are already up to date.\n"
     ]
    }
   ],
   "metadata": {}
  },
  {
   "cell_type": "markdown",
   "source": [
    "## Read Data From CSV's"
   ],
   "metadata": {}
  },
  {
   "cell_type": "code",
   "execution_count": 2,
   "source": [
    "# Load data from csv's\n",
    "reg_int_df = pd.read_csv('assets/reg_interest.csv')\n",
    "iot_df = pd.read_csv('assets/iot.csv')\n",
    "covid_df = pd.read_csv('assets/covid.csv')\n",
    "hospitals_df = pd.read_csv('assets/hospitals.csv')"
   ],
   "outputs": [],
   "metadata": {}
  },
  {
   "cell_type": "code",
   "execution_count": 17,
   "source": [
    "#NOTE: Save dataframes as prior states from which present missing values can be fille?"
   ],
   "outputs": [],
   "metadata": {}
  },
  {
   "cell_type": "markdown",
   "source": [
    "## Explore Data\n",
    "### Hospital Data"
   ],
   "metadata": {}
  },
  {
   "cell_type": "code",
   "execution_count": 167,
   "source": [
    "hospitals_df.head(1)"
   ],
   "outputs": [
    {
     "output_type": "execute_result",
     "data": {
      "text/html": [
       "<div>\n",
       "<style scoped>\n",
       "    .dataframe tbody tr th:only-of-type {\n",
       "        vertical-align: middle;\n",
       "    }\n",
       "\n",
       "    .dataframe tbody tr th {\n",
       "        vertical-align: top;\n",
       "    }\n",
       "\n",
       "    .dataframe thead th {\n",
       "        text-align: right;\n",
       "    }\n",
       "</style>\n",
       "<table border=\"1\" class=\"dataframe\">\n",
       "  <thead>\n",
       "    <tr style=\"text-align: right;\">\n",
       "      <th></th>\n",
       "      <th>Unnamed: 0</th>\n",
       "      <th>hospital_pk</th>\n",
       "      <th>collection_week</th>\n",
       "      <th>state</th>\n",
       "      <th>ccn</th>\n",
       "      <th>hospital_name</th>\n",
       "      <th>address</th>\n",
       "      <th>city</th>\n",
       "      <th>zip</th>\n",
       "      <th>hospital_subtype</th>\n",
       "      <th>...</th>\n",
       "      <th>previous_day_admission_adult_covid_suspected_7_day_coverage</th>\n",
       "      <th>previous_day_admission_pediatric_covid_suspected_7_day_coverage</th>\n",
       "      <th>previous_week_personnel_covid_vaccinated_doses_administered_7_day</th>\n",
       "      <th>total_personnel_covid_vaccinated_doses_none_7_day</th>\n",
       "      <th>total_personnel_covid_vaccinated_doses_one_7_day</th>\n",
       "      <th>total_personnel_covid_vaccinated_doses_all_7_day</th>\n",
       "      <th>previous_week_patients_covid_vaccinated_doses_one_7_day</th>\n",
       "      <th>previous_week_patients_covid_vaccinated_doses_all_7_day</th>\n",
       "      <th>is_corrected</th>\n",
       "      <th>:@computed_region_pqdx_y6mm</th>\n",
       "    </tr>\n",
       "  </thead>\n",
       "  <tbody>\n",
       "    <tr>\n",
       "      <th>0</th>\n",
       "      <td>0</td>\n",
       "      <td>280023</td>\n",
       "      <td>2021-09-03T00:00:00.000</td>\n",
       "      <td>NE</td>\n",
       "      <td>280023</td>\n",
       "      <td>CHI HEALTH ST FRANCIS</td>\n",
       "      <td>2620 WEST FAIDLEY AVE</td>\n",
       "      <td>GRAND ISLAND</td>\n",
       "      <td>68803</td>\n",
       "      <td>Short Term</td>\n",
       "      <td>...</td>\n",
       "      <td>7</td>\n",
       "      <td>7</td>\n",
       "      <td>0.0</td>\n",
       "      <td>0.0</td>\n",
       "      <td>0.0</td>\n",
       "      <td>0.0</td>\n",
       "      <td>0.0</td>\n",
       "      <td>0.0</td>\n",
       "      <td>False</td>\n",
       "      <td>28.0</td>\n",
       "    </tr>\n",
       "  </tbody>\n",
       "</table>\n",
       "<p>1 rows × 108 columns</p>\n",
       "</div>"
      ],
      "text/plain": [
       "   Unnamed: 0 hospital_pk          collection_week state     ccn  \\\n",
       "0           0      280023  2021-09-03T00:00:00.000    NE  280023   \n",
       "\n",
       "           hospital_name                address          city    zip  \\\n",
       "0  CHI HEALTH ST FRANCIS  2620 WEST FAIDLEY AVE  GRAND ISLAND  68803   \n",
       "\n",
       "  hospital_subtype  ...  \\\n",
       "0       Short Term  ...   \n",
       "\n",
       "   previous_day_admission_adult_covid_suspected_7_day_coverage  \\\n",
       "0                                                  7             \n",
       "\n",
       "   previous_day_admission_pediatric_covid_suspected_7_day_coverage  \\\n",
       "0                                                  7                 \n",
       "\n",
       "   previous_week_personnel_covid_vaccinated_doses_administered_7_day  \\\n",
       "0                                                0.0                   \n",
       "\n",
       "   total_personnel_covid_vaccinated_doses_none_7_day  \\\n",
       "0                                                0.0   \n",
       "\n",
       "   total_personnel_covid_vaccinated_doses_one_7_day  \\\n",
       "0                                               0.0   \n",
       "\n",
       "   total_personnel_covid_vaccinated_doses_all_7_day  \\\n",
       "0                                               0.0   \n",
       "\n",
       "   previous_week_patients_covid_vaccinated_doses_one_7_day  \\\n",
       "0                                                0.0         \n",
       "\n",
       "   previous_week_patients_covid_vaccinated_doses_all_7_day  is_corrected  \\\n",
       "0                                                0.0               False   \n",
       "\n",
       "   :@computed_region_pqdx_y6mm  \n",
       "0                         28.0  \n",
       "\n",
       "[1 rows x 108 columns]"
      ]
     },
     "metadata": {},
     "execution_count": 167
    }
   ],
   "metadata": {}
  },
  {
   "cell_type": "code",
   "execution_count": 26,
   "source": [
    "# Save the 108 column names in df: can mark names to be used in other data sets\n",
    "# later if necessary\n",
    "hosp_cols = pd.DataFrame(hospitals_df.columns)\n",
    "datafile_path = 'assets/hospital_df_columns.csv'\n",
    "hosp_cols.to_csv(datafile_path)"
   ],
   "outputs": [],
   "metadata": {}
  },
  {
   "cell_type": "markdown",
   "source": [
    "### There are 107 columns in the hospital data. We wont be using all of it. But, rather than dropping so many of the columns, let's subset it to create smaller data sets. This way, we will have the ability to use this data later.\n",
    "\n",
    "### Let's start by focusing on the bed data which will be a subset of the hospitals_df.\n",
    "### Bed Data"
   ],
   "metadata": {}
  },
  {
   "cell_type": "code",
   "execution_count": 134,
   "source": [
    "# Columns to keep\n",
    "bed_cols = [\"hospital_pk\",\n",
    "            \"collection_week\",\n",
    "            \"state\",\n",
    "            \"ccn\",\n",
    "            \"hospital_name\",\n",
    "            \"address\",\n",
    "            \"city\",\n",
    "            \"zip\",\n",
    "            \"hospital_subtype\",\n",
    "            \"fips_code\",\n",
    "            \"is_metro_micro\",\n",
    "            \"total_beds_7_day_avg\",\n",
    "            \"all_adult_hospital_beds_7_day_avg\",\n",
    "            \"all_adult_hospital_inpatient_beds_7_day_avg\",\n",
    "            \"inpatient_beds_used_7_day_avg\",\n",
    "            \"all_adult_hospital_inpatient_bed_occupied_7_day_avg\"]\n",
    "\n",
    "# Subset the hospitals_df\n",
    "beds_df = hospitals_df.loc[:, bed_cols]\n",
    "\n",
    "# Check data types, dimensions# Check data types, dimensions\n",
    "beds_df.info()\n",
    "beds_df = hospitals_df[bed_cols]\n",
    "beds_df.head(1)"
   ],
   "outputs": [
    {
     "output_type": "stream",
     "name": "stdout",
     "text": [
      "<class 'pandas.core.frame.DataFrame'>\n",
      "RangeIndex: 1000 entries, 0 to 999\n",
      "Data columns (total 16 columns):\n",
      " #   Column                                               Non-Null Count  Dtype  \n",
      "---  ------                                               --------------  -----  \n",
      " 0   hospital_pk                                          1000 non-null   object \n",
      " 1   collection_week                                      1000 non-null   object \n",
      " 2   state                                                1000 non-null   object \n",
      " 3   ccn                                                  997 non-null    object \n",
      " 4   hospital_name                                        1000 non-null   object \n",
      " 5   address                                              999 non-null    object \n",
      " 6   city                                                 999 non-null    object \n",
      " 7   zip                                                  1000 non-null   int64  \n",
      " 8   hospital_subtype                                     1000 non-null   object \n",
      " 9   fips_code                                            999 non-null    float64\n",
      " 10  is_metro_micro                                       1000 non-null   bool   \n",
      " 11  total_beds_7_day_avg                                 1000 non-null   float64\n",
      " 12  all_adult_hospital_beds_7_day_avg                    1000 non-null   float64\n",
      " 13  all_adult_hospital_inpatient_beds_7_day_avg          1000 non-null   float64\n",
      " 14  inpatient_beds_used_7_day_avg                        1000 non-null   float64\n",
      " 15  all_adult_hospital_inpatient_bed_occupied_7_day_avg  1000 non-null   float64\n",
      "dtypes: bool(1), float64(6), int64(1), object(8)\n",
      "memory usage: 118.3+ KB\n"
     ]
    },
    {
     "output_type": "execute_result",
     "data": {
      "text/html": [
       "<div>\n",
       "<style scoped>\n",
       "    .dataframe tbody tr th:only-of-type {\n",
       "        vertical-align: middle;\n",
       "    }\n",
       "\n",
       "    .dataframe tbody tr th {\n",
       "        vertical-align: top;\n",
       "    }\n",
       "\n",
       "    .dataframe thead th {\n",
       "        text-align: right;\n",
       "    }\n",
       "</style>\n",
       "<table border=\"1\" class=\"dataframe\">\n",
       "  <thead>\n",
       "    <tr style=\"text-align: right;\">\n",
       "      <th></th>\n",
       "      <th>hospital_pk</th>\n",
       "      <th>collection_week</th>\n",
       "      <th>state</th>\n",
       "      <th>ccn</th>\n",
       "      <th>hospital_name</th>\n",
       "      <th>address</th>\n",
       "      <th>city</th>\n",
       "      <th>zip</th>\n",
       "      <th>hospital_subtype</th>\n",
       "      <th>fips_code</th>\n",
       "      <th>is_metro_micro</th>\n",
       "      <th>total_beds_7_day_avg</th>\n",
       "      <th>all_adult_hospital_beds_7_day_avg</th>\n",
       "      <th>all_adult_hospital_inpatient_beds_7_day_avg</th>\n",
       "      <th>inpatient_beds_used_7_day_avg</th>\n",
       "      <th>all_adult_hospital_inpatient_bed_occupied_7_day_avg</th>\n",
       "    </tr>\n",
       "  </thead>\n",
       "  <tbody>\n",
       "    <tr>\n",
       "      <th>0</th>\n",
       "      <td>280023</td>\n",
       "      <td>2021-09-03T00:00:00.000</td>\n",
       "      <td>NE</td>\n",
       "      <td>280023</td>\n",
       "      <td>CHI HEALTH ST FRANCIS</td>\n",
       "      <td>2620 WEST FAIDLEY AVE</td>\n",
       "      <td>GRAND ISLAND</td>\n",
       "      <td>68803</td>\n",
       "      <td>Short Term</td>\n",
       "      <td>31079.0</td>\n",
       "      <td>True</td>\n",
       "      <td>92.0</td>\n",
       "      <td>84.0</td>\n",
       "      <td>80.0</td>\n",
       "      <td>64.3</td>\n",
       "      <td>63.4</td>\n",
       "    </tr>\n",
       "  </tbody>\n",
       "</table>\n",
       "</div>"
      ],
      "text/plain": [
       "  hospital_pk          collection_week state     ccn          hospital_name  \\\n",
       "0      280023  2021-09-03T00:00:00.000    NE  280023  CHI HEALTH ST FRANCIS   \n",
       "\n",
       "                 address          city    zip hospital_subtype  fips_code  \\\n",
       "0  2620 WEST FAIDLEY AVE  GRAND ISLAND  68803       Short Term    31079.0   \n",
       "\n",
       "   is_metro_micro  total_beds_7_day_avg  all_adult_hospital_beds_7_day_avg  \\\n",
       "0            True                  92.0                               84.0   \n",
       "\n",
       "   all_adult_hospital_inpatient_beds_7_day_avg  inpatient_beds_used_7_day_avg  \\\n",
       "0                                         80.0                           64.3   \n",
       "\n",
       "   all_adult_hospital_inpatient_bed_occupied_7_day_avg  \n",
       "0                                               63.4    "
      ]
     },
     "metadata": {},
     "execution_count": 134
    }
   ],
   "metadata": {}
  },
  {
   "cell_type": "code",
   "execution_count": null,
   "source": [
    "#TODO: I need to figure out how I'm going to handle the negtive and missing values."
   ],
   "outputs": [],
   "metadata": {}
  },
  {
   "cell_type": "code",
   "execution_count": 135,
   "source": [
    "# Descriptive statistics\n",
    "beds_df.describe()"
   ],
   "outputs": [
    {
     "output_type": "execute_result",
     "data": {
      "text/html": [
       "<div>\n",
       "<style scoped>\n",
       "    .dataframe tbody tr th:only-of-type {\n",
       "        vertical-align: middle;\n",
       "    }\n",
       "\n",
       "    .dataframe tbody tr th {\n",
       "        vertical-align: top;\n",
       "    }\n",
       "\n",
       "    .dataframe thead th {\n",
       "        text-align: right;\n",
       "    }\n",
       "</style>\n",
       "<table border=\"1\" class=\"dataframe\">\n",
       "  <thead>\n",
       "    <tr style=\"text-align: right;\">\n",
       "      <th></th>\n",
       "      <th>zip</th>\n",
       "      <th>fips_code</th>\n",
       "      <th>total_beds_7_day_avg</th>\n",
       "      <th>all_adult_hospital_beds_7_day_avg</th>\n",
       "      <th>all_adult_hospital_inpatient_beds_7_day_avg</th>\n",
       "      <th>inpatient_beds_used_7_day_avg</th>\n",
       "      <th>all_adult_hospital_inpatient_bed_occupied_7_day_avg</th>\n",
       "    </tr>\n",
       "  </thead>\n",
       "  <tbody>\n",
       "    <tr>\n",
       "      <th>count</th>\n",
       "      <td>1000.000000</td>\n",
       "      <td>999.000000</td>\n",
       "      <td>1000.000000</td>\n",
       "      <td>1000.000000</td>\n",
       "      <td>1000.000000</td>\n",
       "      <td>1000.000000</td>\n",
       "      <td>1000.000000</td>\n",
       "    </tr>\n",
       "    <tr>\n",
       "      <th>mean</th>\n",
       "      <td>53326.554000</td>\n",
       "      <td>30244.963964</td>\n",
       "      <td>-1826.364400</td>\n",
       "      <td>-1844.552800</td>\n",
       "      <td>-2867.365300</td>\n",
       "      <td>-62885.044000</td>\n",
       "      <td>-63895.464400</td>\n",
       "    </tr>\n",
       "    <tr>\n",
       "      <th>std</th>\n",
       "      <td>27021.650725</td>\n",
       "      <td>16116.623627</td>\n",
       "      <td>44707.236758</td>\n",
       "      <td>44706.306053</td>\n",
       "      <td>54724.895766</td>\n",
       "      <td>243114.149438</td>\n",
       "      <td>244902.534405</td>\n",
       "    </tr>\n",
       "    <tr>\n",
       "      <th>min</th>\n",
       "      <td>613.000000</td>\n",
       "      <td>1011.000000</td>\n",
       "      <td>-999999.000000</td>\n",
       "      <td>-999999.000000</td>\n",
       "      <td>-999999.000000</td>\n",
       "      <td>-999999.000000</td>\n",
       "      <td>-999999.000000</td>\n",
       "    </tr>\n",
       "    <tr>\n",
       "      <th>25%</th>\n",
       "      <td>32380.750000</td>\n",
       "      <td>17201.000000</td>\n",
       "      <td>29.925000</td>\n",
       "      <td>25.000000</td>\n",
       "      <td>23.075000</td>\n",
       "      <td>11.900000</td>\n",
       "      <td>11.300000</td>\n",
       "    </tr>\n",
       "    <tr>\n",
       "      <th>50%</th>\n",
       "      <td>54630.500000</td>\n",
       "      <td>30029.000000</td>\n",
       "      <td>79.350000</td>\n",
       "      <td>70.000000</td>\n",
       "      <td>58.000000</td>\n",
       "      <td>43.650000</td>\n",
       "      <td>40.500000</td>\n",
       "    </tr>\n",
       "    <tr>\n",
       "      <th>75%</th>\n",
       "      <td>76033.000000</td>\n",
       "      <td>42131.000000</td>\n",
       "      <td>244.250000</td>\n",
       "      <td>222.000000</td>\n",
       "      <td>181.750000</td>\n",
       "      <td>152.700000</td>\n",
       "      <td>143.950000</td>\n",
       "    </tr>\n",
       "    <tr>\n",
       "      <th>max</th>\n",
       "      <td>99615.000000</td>\n",
       "      <td>72141.000000</td>\n",
       "      <td>1574.000000</td>\n",
       "      <td>1376.000000</td>\n",
       "      <td>1306.000000</td>\n",
       "      <td>1321.100000</td>\n",
       "      <td>1189.900000</td>\n",
       "    </tr>\n",
       "  </tbody>\n",
       "</table>\n",
       "</div>"
      ],
      "text/plain": [
       "                zip     fips_code  total_beds_7_day_avg  \\\n",
       "count   1000.000000    999.000000           1000.000000   \n",
       "mean   53326.554000  30244.963964          -1826.364400   \n",
       "std    27021.650725  16116.623627          44707.236758   \n",
       "min      613.000000   1011.000000        -999999.000000   \n",
       "25%    32380.750000  17201.000000             29.925000   \n",
       "50%    54630.500000  30029.000000             79.350000   \n",
       "75%    76033.000000  42131.000000            244.250000   \n",
       "max    99615.000000  72141.000000           1574.000000   \n",
       "\n",
       "       all_adult_hospital_beds_7_day_avg  \\\n",
       "count                        1000.000000   \n",
       "mean                        -1844.552800   \n",
       "std                         44706.306053   \n",
       "min                       -999999.000000   \n",
       "25%                            25.000000   \n",
       "50%                            70.000000   \n",
       "75%                           222.000000   \n",
       "max                          1376.000000   \n",
       "\n",
       "       all_adult_hospital_inpatient_beds_7_day_avg  \\\n",
       "count                                  1000.000000   \n",
       "mean                                  -2867.365300   \n",
       "std                                   54724.895766   \n",
       "min                                 -999999.000000   \n",
       "25%                                      23.075000   \n",
       "50%                                      58.000000   \n",
       "75%                                     181.750000   \n",
       "max                                    1306.000000   \n",
       "\n",
       "       inpatient_beds_used_7_day_avg  \\\n",
       "count                    1000.000000   \n",
       "mean                   -62885.044000   \n",
       "std                    243114.149438   \n",
       "min                   -999999.000000   \n",
       "25%                        11.900000   \n",
       "50%                        43.650000   \n",
       "75%                       152.700000   \n",
       "max                      1321.100000   \n",
       "\n",
       "       all_adult_hospital_inpatient_bed_occupied_7_day_avg  \n",
       "count                                        1000.000000    \n",
       "mean                                       -63895.464400    \n",
       "std                                        244902.534405    \n",
       "min                                       -999999.000000    \n",
       "25%                                            11.300000    \n",
       "50%                                            40.500000    \n",
       "75%                                           143.950000    \n",
       "max                                          1189.900000    "
      ]
     },
     "metadata": {},
     "execution_count": 135
    }
   ],
   "metadata": {}
  },
  {
   "cell_type": "markdown",
   "source": [
    "### Above, we can see very large negative values in the data. There shouldn't be any negative values in the data at all. Let's take a closer look to figure out why it is there. We might have to look at the data description on the HealthData.gov website. Or, we might have to contact someone there to gain some clarity."
   ],
   "metadata": {}
  },
  {
   "cell_type": "code",
   "execution_count": 164,
   "source": [
    "start = int(beds_df.columns.get_loc('total_beds_7_day_avg'))\n",
    "end = len(beds_df.columns)\n",
    "col_r = range(start, end)\n",
    "\n",
    "beds_df[beds_df.iloc[:, r]  < 0].count()"
   ],
   "outputs": [
    {
     "output_type": "execute_result",
     "data": {
      "text/plain": [
       "hospital_pk                                            64\n",
       "collection_week                                        64\n",
       "state                                                  64\n",
       "ccn                                                    63\n",
       "hospital_name                                          64\n",
       "address                                                64\n",
       "city                                                   64\n",
       "zip                                                    64\n",
       "hospital_subtype                                       64\n",
       "fips_code                                              64\n",
       "is_metro_micro                                         64\n",
       "total_beds_7_day_avg                                   64\n",
       "all_adult_hospital_beds_7_day_avg                      64\n",
       "all_adult_hospital_inpatient_beds_7_day_avg            64\n",
       "inpatient_beds_used_7_day_avg                          64\n",
       "all_adult_hospital_inpatient_bed_occupied_7_day_avg    64\n",
       "dtype: int64"
      ]
     },
     "metadata": {},
     "execution_count": 164
    }
   ],
   "metadata": {}
  },
  {
   "cell_type": "markdown",
   "source": [
    "### It looks like there are 64 rows with negative values."
   ],
   "metadata": {}
  },
  {
   "cell_type": "markdown",
   "source": [
    "### COVID-19 Data"
   ],
   "metadata": {}
  },
  {
   "cell_type": "markdown",
   "source": [],
   "metadata": {}
  },
  {
   "cell_type": "code",
   "execution_count": 13,
   "source": [
    "# Check data types, dimensions\n",
    "covid_df.info()# Check data types, dimensions\n",
    "covid_df.info()"
   ],
   "outputs": [
    {
     "output_type": "stream",
     "name": "stdout",
     "text": [
      "<class 'pandas.core.frame.DataFrame'>\n",
      "RangeIndex: 1000 entries, 0 to 999\n",
      "Data columns (total 19 columns):\n",
      " #   Column                    Non-Null Count  Dtype  \n",
      "---  ------                    --------------  -----  \n",
      " 0   case_month                1000 non-null   object \n",
      " 1   res_state                 1000 non-null   object \n",
      " 2   state_fips_code           1000 non-null   int64  \n",
      " 3   res_county                1000 non-null   object \n",
      " 4   county_fips_code          1000 non-null   object \n",
      " 5   age_group                 1000 non-null   object \n",
      " 6   sex                       1000 non-null   object \n",
      " 7   race                      1000 non-null   object \n",
      " 8   ethnicity                 1000 non-null   object \n",
      " 9   case_positive_specimen    348 non-null    float64\n",
      " 10  process                   1000 non-null   object \n",
      " 11  exposure_yn               1000 non-null   object \n",
      " 12  current_status            1000 non-null   object \n",
      " 13  symptom_status            1000 non-null   object \n",
      " 14  hosp_yn                   1000 non-null   object \n",
      " 15  icu_yn                    1000 non-null   object \n",
      " 16  death_yn                  1000 non-null   object \n",
      " 17  case_onset_interval       484 non-null    float64\n",
      " 18  underlying_conditions_yn  60 non-null     object \n",
      "dtypes: float64(2), int64(1), object(16)\n",
      "memory usage: 148.6+ KB\n"
     ]
    }
   ],
   "metadata": {}
  },
  {
   "cell_type": "code",
   "execution_count": 11,
   "source": [
    "# Check for missing values\n",
    "covid_df.isna().sum().sum()"
   ],
   "outputs": [
    {
     "output_type": "execute_result",
     "data": {
      "text/plain": [
       "2108"
      ]
     },
     "metadata": {},
     "execution_count": 11
    }
   ],
   "metadata": {}
  },
  {
   "cell_type": "code",
   "execution_count": 15,
   "source": [
    "# Get descriptive statistics\n",
    "covid_df.describe()"
   ],
   "outputs": [
    {
     "output_type": "execute_result",
     "data": {
      "text/html": [
       "<div>\n",
       "<style scoped>\n",
       "    .dataframe tbody tr th:only-of-type {\n",
       "        vertical-align: middle;\n",
       "    }\n",
       "\n",
       "    .dataframe tbody tr th {\n",
       "        vertical-align: top;\n",
       "    }\n",
       "\n",
       "    .dataframe thead th {\n",
       "        text-align: right;\n",
       "    }\n",
       "</style>\n",
       "<table border=\"1\" class=\"dataframe\">\n",
       "  <thead>\n",
       "    <tr style=\"text-align: right;\">\n",
       "      <th></th>\n",
       "      <th>state_fips_code</th>\n",
       "      <th>case_positive_specimen</th>\n",
       "      <th>case_onset_interval</th>\n",
       "    </tr>\n",
       "  </thead>\n",
       "  <tbody>\n",
       "    <tr>\n",
       "      <th>count</th>\n",
       "      <td>1000.000000</td>\n",
       "      <td>348.000000</td>\n",
       "      <td>484.000000</td>\n",
       "    </tr>\n",
       "    <tr>\n",
       "      <th>mean</th>\n",
       "      <td>29.584000</td>\n",
       "      <td>0.255747</td>\n",
       "      <td>0.099174</td>\n",
       "    </tr>\n",
       "    <tr>\n",
       "      <th>std</th>\n",
       "      <td>15.242483</td>\n",
       "      <td>2.589181</td>\n",
       "      <td>1.425325</td>\n",
       "    </tr>\n",
       "    <tr>\n",
       "      <th>min</th>\n",
       "      <td>1.000000</td>\n",
       "      <td>-27.000000</td>\n",
       "      <td>0.000000</td>\n",
       "    </tr>\n",
       "    <tr>\n",
       "      <th>25%</th>\n",
       "      <td>18.000000</td>\n",
       "      <td>0.000000</td>\n",
       "      <td>0.000000</td>\n",
       "    </tr>\n",
       "    <tr>\n",
       "      <th>50%</th>\n",
       "      <td>29.000000</td>\n",
       "      <td>0.000000</td>\n",
       "      <td>0.000000</td>\n",
       "    </tr>\n",
       "    <tr>\n",
       "      <th>75%</th>\n",
       "      <td>42.000000</td>\n",
       "      <td>0.000000</td>\n",
       "      <td>0.000000</td>\n",
       "    </tr>\n",
       "    <tr>\n",
       "      <th>max</th>\n",
       "      <td>55.000000</td>\n",
       "      <td>31.000000</td>\n",
       "      <td>24.000000</td>\n",
       "    </tr>\n",
       "  </tbody>\n",
       "</table>\n",
       "</div>"
      ],
      "text/plain": [
       "       state_fips_code  case_positive_specimen  case_onset_interval\n",
       "count      1000.000000              348.000000           484.000000\n",
       "mean         29.584000                0.255747             0.099174\n",
       "std          15.242483                2.589181             1.425325\n",
       "min           1.000000              -27.000000             0.000000\n",
       "25%          18.000000                0.000000             0.000000\n",
       "50%          29.000000                0.000000             0.000000\n",
       "75%          42.000000                0.000000             0.000000\n",
       "max          55.000000               31.000000            24.000000"
      ]
     },
     "metadata": {},
     "execution_count": 15
    }
   ],
   "metadata": {}
  },
  {
   "cell_type": "code",
   "execution_count": null,
   "source": [],
   "outputs": [],
   "metadata": {}
  }
 ],
 "metadata": {
  "orig_nbformat": 4,
  "language_info": {
   "name": "python",
   "version": "3.8.10",
   "mimetype": "text/x-python",
   "codemirror_mode": {
    "name": "ipython",
    "version": 3
   },
   "pygments_lexer": "ipython3",
   "nbconvert_exporter": "python",
   "file_extension": ".py"
  },
  "kernelspec": {
   "name": "python3",
   "display_name": "Python 3.8.10 64-bit ('hosp-util-wkspc': venv)"
  },
  "interpreter": {
   "hash": "ec5c7f0450bfada08477490edec475de023942b064a9309cf122456ea7985466"
  }
 },
 "nbformat": 4,
 "nbformat_minor": 2
}